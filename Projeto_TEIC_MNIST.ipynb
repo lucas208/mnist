{
  "nbformat": 4,
  "nbformat_minor": 0,
  "metadata": {
    "colab": {
      "name": "Projeto_TEIC_MNIST.ipynb",
      "provenance": [],
      "collapsed_sections": [],
      "toc_visible": true
    },
    "kernelspec": {
      "display_name": "Python 3",
      "name": "python3"
    }
  },
  "cells": [
    {
      "cell_type": "markdown",
      "metadata": {
        "id": "CBLGLZImZr9v"
      },
      "source": [
        "#1.Descrição do problema\n",
        "O problema aqui é classificar imagens em tons de cinza de dígitos escritos à mão (28 ×28 pixels) em suas 10 categorias (0 a 9), assim, este é um problema de classificação multiclasse. Usaremos o conjunto de dados MNIST. É um conjunto de 60.000 imagens de treinamento, além de 10.000 imagens de teste, reunidas pelo Instituto Nacional de Padrões e Tecnologia (o NIST no MNIST).\n",
        "\n",
        "\n"
      ]
    },
    {
      "cell_type": "code",
      "metadata": {
        "id": "ZJ6esqn7fGBa"
      },
      "source": [
        ""
      ],
      "execution_count": null,
      "outputs": []
    },
    {
      "cell_type": "markdown",
      "metadata": {
        "id": "NrypCex5CTZB"
      },
      "source": [
        "#2.Importação de bibliotecas"
      ]
    },
    {
      "cell_type": "code",
      "metadata": {
        "id": "0oUXQqH3CaIf",
        "colab": {
          "base_uri": "https://localhost:8080/"
        },
        "outputId": "ea7b67a3-6648-4de4-e488-e04482e1b5bd"
      },
      "source": [
        "import tensorflow as tf\n",
        "from tensorflow import keras\n",
        "import numpy as np\n",
        "\n",
        "import seaborn as sns\n",
        "import matplotlib.pyplot as plt\n",
        "import sklearn\n",
        "import sklearn.datasets\n",
        "import scipy.io\n",
        "import time\n",
        "from keras.layers import GaussianNoise\n",
        "import datetime\n",
        "from mlxtend.plotting import plot_decision_regions\n",
        "from tensorflow.keras.regularizers import l2\n",
        "from tensorflow.keras.callbacks import EarlyStopping\n",
        "from tensorflow.keras.callbacks import ModelCheckpoint\n",
        "from tensorflow.keras.optimizers import RMSprop\n",
        "from tensorflow.keras.models import load_model\n",
        "from tensorflow.keras.models import Sequential\n",
        "from tensorflow.keras.layers import Dense\n",
        "from tensorflow.keras.layers import Layer\n",
        "from tensorflow.keras import models\n",
        "from tensorflow.keras import layers\n",
        "\n",
        "!pip install -q -U keras-tuner\n",
        "import kerastuner as kt\n",
        "from kerastuner import HyperModel\n",
        "from kerastuner.tuners import RandomSearch"
      ],
      "execution_count": null,
      "outputs": [
        {
          "output_type": "stream",
          "text": [
            "\u001b[?25l\r\u001b[K     |█████▏                          | 10kB 19.2MB/s eta 0:00:01\r\u001b[K     |██████████▍                     | 20kB 25.0MB/s eta 0:00:01\r\u001b[K     |███████████████▋                | 30kB 28.5MB/s eta 0:00:01\r\u001b[K     |████████████████████▉           | 40kB 16.5MB/s eta 0:00:01\r\u001b[K     |██████████████████████████      | 51kB 18.4MB/s eta 0:00:01\r\u001b[K     |███████████████████████████████▎| 61kB 20.3MB/s eta 0:00:01\r\u001b[K     |████████████████████████████████| 71kB 5.1MB/s \n",
            "\u001b[?25h  Building wheel for keras-tuner (setup.py) ... \u001b[?25l\u001b[?25hdone\n",
            "  Building wheel for terminaltables (setup.py) ... \u001b[?25l\u001b[?25hdone\n"
          ],
          "name": "stdout"
        }
      ]
    },
    {
      "cell_type": "markdown",
      "metadata": {
        "id": "q-RX4XzpAOri"
      },
      "source": [
        "#3.Preparando os dados\n"
      ]
    },
    {
      "cell_type": "markdown",
      "metadata": {
        "id": "r46OdzqEU6ZK"
      },
      "source": [
        "## 3.1 Load dataset MNIST"
      ]
    },
    {
      "cell_type": "markdown",
      "metadata": {
        "id": "dwxb2eclBVXg"
      },
      "source": [
        "O conjunto de dados MNIST vem pré-carregado no Keras, na forma de um conjunto de quatro matrizes NumPy. \n",
        "train_images e train_labels é do conjunto de treinamento. test_images e test_labels  são do conjunto de teste. Os labels são matrizes de dígitos, variando de 0 a 9. As imagens e os labels têm uma correspondência um para um."
      ]
    },
    {
      "cell_type": "code",
      "metadata": {
        "id": "NcFpmJAhU_Ym",
        "colab": {
          "base_uri": "https://localhost:8080/"
        },
        "outputId": "5f498f9c-bf8e-43d6-debd-fdf31b823bcf"
      },
      "source": [
        "from keras.datasets import mnist\n",
        "(train_images, train_labels), (test_images, test_labels) = mnist.load_data()"
      ],
      "execution_count": null,
      "outputs": [
        {
          "output_type": "stream",
          "text": [
            "Downloading data from https://storage.googleapis.com/tensorflow/tf-keras-datasets/mnist.npz\n",
            "11493376/11490434 [==============================] - 0s 0us/step\n"
          ],
          "name": "stdout"
        }
      ]
    },
    {
      "cell_type": "markdown",
      "metadata": {
        "id": "nRB-F-MNXRI-"
      },
      "source": [
        "###3.1.1 Plot"
      ]
    },
    {
      "cell_type": "markdown",
      "metadata": {
        "id": "T2NUf7dUu28m"
      },
      "source": [
        "Aí pode-se plotar qualquer imagem do dataset. Para trocar a imagem é só alterar o index."
      ]
    },
    {
      "cell_type": "code",
      "metadata": {
        "colab": {
          "base_uri": "https://localhost:8080/",
          "height": 265
        },
        "id": "nsk5eKKsWRI0",
        "outputId": "e4fdf3c1-53ad-4672-9776-939b931dfe19"
      },
      "source": [
        "index = 4\n",
        "digit = train_images[index]\n",
        "import matplotlib.pyplot as plt\n",
        "plt.imshow(digit, cmap=plt.cm.binary)\n",
        "plt.show()"
      ],
      "execution_count": null,
      "outputs": [
        {
          "output_type": "display_data",
          "data": {
            "image/png": "[encoded data removed]",
            "text/plain": [
              "<Figure size 432x288 with 1 Axes>"
            ]
          },
          "metadata": {
            "tags": [],
            "needs_background": "light"
          }
        }
      ]
    },
    {
      "cell_type": "markdown",
      "metadata": {
        "id": "kjbgvpXGtgIM"
      },
      "source": [
        "###3.1.2 Dimensão dos tensores"
      ]
    },
    {
      "cell_type": "markdown",
      "metadata": {
        "id": "aVpkPI0aSFLN"
      },
      "source": [
        "As imagens geralmente têm três dimensões: altura, largura e profundidade de cor. Embora, em tons de cinza imagens (como nossos dígitos MNIST) têm apenas um único canal de cor e, portanto, podem ser armazenadas em tensores de classificação 2, mas por convenção, os tensores de imagem são sempre de classificação 3. Assim, os tensores train_images e test_images são da forma (6000, 28, 28, 1). Já os labels são tensores de dimensão 1."
      ]
    },
    {
      "cell_type": "code",
      "metadata": {
        "colab": {
          "base_uri": "https://localhost:8080/"
        },
        "id": "Oy7I9RB0N9g6",
        "outputId": "e3a19c9d-5e4f-4de1-9322-5a5a0021ae17"
      },
      "source": [
        "#Cada matriz numpy aqui é um tensor de dimensão 3 para train e test. Os labels são tensores de dimensão 1.\n",
        "print(train_images.ndim)\n",
        "print(train_images.shape)\n",
        "print('\\n')\n",
        "print(test_images.ndim)\n",
        "print(test_images.shape)\n",
        "print('\\n')\n",
        "print(train_labels.ndim)\n",
        "print(train_labels.shape)\n",
        "print('\\n')\n",
        "print(test_labels.ndim)\n",
        "print(test_labels.shape)\n",
        "\n"
      ],
      "execution_count": null,
      "outputs": [
        {
          "output_type": "stream",
          "text": [
            "3\n",
            "(60000, 28, 28)\n",
            "\n",
            "\n",
            "3\n",
            "(10000, 28, 28)\n",
            "\n",
            "\n",
            "1\n",
            "(60000,)\n",
            "\n",
            "\n",
            "1\n",
            "(10000,)\n"
          ],
          "name": "stdout"
        }
      ]
    },
    {
      "cell_type": "markdown",
      "metadata": {
        "id": "XZhbv1GDBDfw"
      },
      "source": [
        "##3.2 Juntando e embaralhando o dataset"
      ]
    },
    {
      "cell_type": "code",
      "metadata": {
        "id": "CxW5C_ZyWXoI"
      },
      "source": [
        "# Juntando train_images e train_labels em um unico array\n",
        "train_images = train_images.reshape((60000, 28 * 28))\n",
        "train_labels = train_labels.reshape((60000, 1))\n",
        "\n",
        "training_set = np.hstack((train_images,train_labels))\n",
        "# print(train_images.shape)\n",
        "# print(train_labels.shape)\n",
        "# print(training_set.shape)\n",
        "# print(training_set)\n",
        "\n",
        "# Juntando test_images e test_labels em um unico array\n",
        "test_images = test_images.reshape((10000, 28 * 28))\n",
        "test_labels = test_labels.reshape((10000, 1))\n",
        "\n",
        "test_set = np.hstack((test_images,test_labels))\n",
        "# print(test_images.shape)\n",
        "# print(test_labels.shape)\n",
        "# print(test_set.shape)\n",
        "# print(test_set)\n",
        "\n",
        "# Juntando training_set e test_set em um unico array\n",
        "dataset = np.vstack((training_set,test_set))\n",
        "# print(training_set.shape)\n",
        "# print(test_set.shape)\n",
        "# print(dataset.shape)\n",
        "\n",
        "# Embaralhando o dataset antes de dividi-lo\n",
        "np.random.shuffle(dataset)\n",
        "\n",
        "#print(test_images)"
      ],
      "execution_count": null,
      "outputs": []
    },
    {
      "cell_type": "markdown",
      "metadata": {
        "id": "LCX-EpdvDjyB"
      },
      "source": [
        "##3.3 Dividindo o dataset em train_set, dev_set e test_set\n"
      ]
    },
    {
      "cell_type": "markdown",
      "metadata": {
        "id": "CKCock4oD5JT"
      },
      "source": [
        "As proporções utilizadas são 80% para treinamento, 10% para validação e 10% para teste. Temos uma quantidade razoavelmente grande de dados e por isso utilizamos essas proporções.\n",
        "\n",
        "Um modelo de aprendizado profundo nunca deve ser avaliado em seus dados de treinamento. Assim o \"conjunto de validação\", dev_set, será usado para monitorar a precisão do modelo durante o treinamento. É basicamente para monitorar em como o modelo se sai em novos dados."
      ]
    },
    {
      "cell_type": "code",
      "metadata": {
        "colab": {
          "base_uri": "https://localhost:8080/"
        },
        "id": "rE-TU03Pgig2",
        "outputId": "29747292-e6ff-4815-ba20-b612f7132ce8"
      },
      "source": [
        "# Dividindo o dataset em training_set, dev_set e test_set\n",
        "m = dataset.shape[0]\n",
        "percent  = 0.80\n",
        "m_linha  = int(np.floor(percent*m))\n",
        "m_linha2 = int(np.floor(((1-percent)*m)/2))\n",
        "\n",
        "## Traning set\n",
        "train_images = dataset[0:m_linha,0:-1] # da primeira a penúltima coluna\n",
        "train_labels = dataset[0:m_linha,-1]   # apenas a última coluna\n",
        "\n",
        "## Dev set\n",
        "dev_images = dataset[m_linha:(m_linha+m_linha2),0:-1]\n",
        "dev_labels = dataset[m_linha:(m_linha+m_linha2),-1]\n",
        "\n",
        "## Test set\n",
        "test_images = dataset[(m_linha+m_linha2):,0:-1]\n",
        "test_labels = dataset[(m_linha+m_linha2):,-1]\n",
        "\n",
        "print(train_images.shape)\n",
        "print(train_labels.shape)\n",
        "print ('\\n')\n",
        "print(dev_images.shape)\n",
        "print(dev_labels.shape)\n",
        "print ('\\n')\n",
        "print(test_images.shape)\n",
        "print(test_labels.shape)"
      ],
      "execution_count": null,
      "outputs": [
        {
          "output_type": "stream",
          "text": [
            "(56000, 784)\n",
            "(56000,)\n",
            "\n",
            "\n",
            "(6999, 784)\n",
            "(6999,)\n",
            "\n",
            "\n",
            "(7001, 784)\n",
            "(7001,)\n"
          ],
          "name": "stdout"
        }
      ]
    },
    {
      "cell_type": "markdown",
      "metadata": {
        "id": "tiG7vOYqUTIG"
      },
      "source": [
        "##3.5 Novas dimensão dos tensores\n",
        "Agora as linhas de cada matriz, train, dev e test, correspodem as imagens. Cada coluna corresponde aos pixels de cada imagem. Coluna 1 tem pixel 1 de cada imagem, coluna 2 tem pixel 2 da imagem 2 e assim por diante. Temos 784 colunas que são, justamente, 28*28 pixels. \n",
        "\n",
        "Os tensores agora tem dimensão 2 para train, dev e test. Continua tendo dimensão 1 para os labels que não foram alterados."
      ]
    },
    {
      "cell_type": "code",
      "metadata": {
        "colab": {
          "base_uri": "https://localhost:8080/"
        },
        "id": "KSAObkWtUlTg",
        "outputId": "f903a163-0c52-4cef-e71e-1f75a433534c"
      },
      "source": [
        "print(train_images.ndim)\n",
        "print('\\n')\n",
        "print(test_images.ndim)\n",
        "print('\\n')\n",
        "print(dev_images.ndim)\n",
        "print('\\n')\n",
        "print(train_labels.ndim)\n",
        "print('\\n')\n",
        "print(dev_labels.ndim)\n",
        "print('\\n')\n",
        "print(test_labels.ndim)\n"
      ],
      "execution_count": null,
      "outputs": [
        {
          "output_type": "stream",
          "text": [
            "2\n",
            "\n",
            "\n",
            "2\n",
            "\n",
            "\n",
            "2\n",
            "\n",
            "\n",
            "1\n",
            "\n",
            "\n",
            "1\n",
            "\n",
            "\n",
            "1\n"
          ],
          "name": "stdout"
        }
      ]
    },
    {
      "cell_type": "markdown",
      "metadata": {
        "id": "PPR5RpUTGcK1"
      },
      "source": [
        "##3.4 Normalização (better learning)"
      ]
    },
    {
      "cell_type": "markdown",
      "metadata": {
        "id": "iWQtjDNWGh4a"
      },
      "source": [
        "Antes do treinamento, iremos pré-processar os dados remodelando-os para a forma que o modelo espera e dimensionando-o para que todos os valores estejam no intervalo ente [0, 1]. Anteriormente, nossas imagens de treinamento estavam em matrizes (60.000, 28, 28) com valores entre [0, 255]. Agora transformamos em uma matriz (56.000, 28 * 28) com valores entre 0 e 1.\n",
        "\n",
        "Isso é feito pois não é seguro alimentar uma rede neural com dados que assumem valores relativamente grandes (por exemplo, valores que são muito maiores do que os valores iniciais dos pesos) ou dados que são heterogêneos. Isso pode desencadear grandes atualizações de gradiente que irão\n",
        "impedir que a rede convirja."
      ]
    },
    {
      "cell_type": "code",
      "metadata": {
        "id": "ytIVF98xk5XN"
      },
      "source": [
        "# Normalização\n",
        "train_images = train_images.astype('float32') / 255\n",
        "dev_images   = dev_images.astype('float32') / 255\n",
        "test_images  = test_images.astype('float32') / 255"
      ],
      "execution_count": null,
      "outputs": []
    },
    {
      "cell_type": "markdown",
      "metadata": {
        "id": "hhxUaObNamrZ"
      },
      "source": [
        "#4.Construindo o modelo"
      ]
    },
    {
      "cell_type": "markdown",
      "metadata": {
        "id": "7JOWhdJ-JpwL"
      },
      "source": [
        "##4.1 Camadas e funções de ativação (better learning - *ReLU)"
      ]
    },
    {
      "cell_type": "markdown",
      "metadata": {
        "id": "DlYhUcI6KhWW"
      },
      "source": [
        "Decidimos usar um modelo de camadas sequenciais, uma atrás da outra e que são que são 'densamente conectadas', ou seja, todas as saídas de uma camada entram em cada neurônio da camada seguinte. As camadas basicamente extraem 'representações' dos dados que são mais significativas para o problema em questão. \n",
        "\n",
        "\n",
        "O modelo deve terminar com uma camada de 10 saídas ou vias (que é a dimensionalidade - quantidade de classes), o que significa que ele retornará uma matriz de 10 pontuações de probabilidade (onde o total soma 1). Cada pontuação será a probabilidade de que a imagem do dígito atual pertença a um dos 10 dígitos. Baseado nisso, como saída desta última camada utilizamos a função softmax, que também é um tipo de função sigmóide, mas é útil quando tentamos lidar com problemas de classificação que envolvem mais de duas classes, que é o nosso caso. A função softmax transforma as saídas para cada classe para valores entre 0 e 1 e também divide pela soma das saídas. Isso essencialmente dá a probabilidade de a entrada estar em uma determinada classe.\n",
        "\n",
        "As camadas intermediárias devem ser suficientemente grandes, ou seja, não devem tem uma quantidade de neurônios muito menor do que a camada de saída. Nas saídas dessas camadas, exceto a última, utilizamos a função de ativação ReLU, que é uma das funções de ativação mais populares do aprendizado profundo, e destina-se a zerar os valores negativos. Assim, ela não ativa todos os neurônios ao mesmo tempo tornando a rede esparsa e eficiente, e de fácil computação.\n",
        "\n",
        "Obs1: Sem uma função de ativação, a camada consistiria em duas operações lineares - um produto escalar e uma adição. Com uma função de ativação adiciona-se não-linearidades.\n",
        "\n",
        "\n",
        "\n"
      ]
    },
    {
      "cell_type": "markdown",
      "metadata": {
        "id": "JBqgUmn-OZ6X"
      },
      "source": [
        "##4.2 Função de custo\n",
        "\n",
        "É a quantidade que será minimizada durante o treinamento. Ela representa uma medida de sucesso para a tarefa em questão. Como nosso problema é de classificação envolvendo classes com números inteiros e predições de probabilidade entre 0 e 1, o ideal é utilizar 'sparse_categorical crossentropy', ela minimiza a distância entre as distribuições de probabilidade de saída do modelo e a verdadeira distribuição das labels. \n",
        "\n",
        " Aprender, para uma rede neural, significa encontrar um conjunto de valores para os pesos do modelo que minimiza a função de custo.\n"
      ]
    },
    {
      "cell_type": "markdown",
      "metadata": {
        "id": "u29W3JmhJw81"
      },
      "source": [
        "##4.3 Otimizador (better learning)\n",
        "\n",
        "É o mecanismo pelo qual o modelo se atualizará com base no dados de treinamento de modo a melhorar seu desempenho. \n",
        " Determina como a rede será atualizada com base na função de custo. Isto implementa uma variante específica da descida gradiente estocástica (SGD). O otimizador 'rmsprop' é geralmente uma escolha boa o suficiente, seja qual for o problema, segundo  Chollet (2021, p. 113), e é o que estamos utiizando."
      ]
    },
    {
      "cell_type": "markdown",
      "metadata": {
        "id": "PdtM8Qj4vtTh"
      },
      "source": [
        "##4.4 Métrica para monitorar durante treinamento e teste\n",
        " Estamos usando como métrica a 'accuracy', é uma medida de sucesso do seu treinamento e validação."
      ]
    },
    {
      "cell_type": "markdown",
      "metadata": {
        "id": "SnLa7fo89zbg"
      },
      "source": [
        "##4.5 Batch Normalization (better learning)\n",
        "\n",
        "Acelera o processo de aprendizagem reduzindo o número de períodos ou \"epochs\" necessários para o treinamento. O batch normalization foi utilizado antes da função de ativação (como mostrado no paper original sobre batch normalization)."
      ]
    },
    {
      "cell_type": "markdown",
      "metadata": {
        "id": "ItWhbeBb4iBk"
      },
      "source": [
        "##4.6 Regularização L2 (better generalization)\n",
        "Faz com que a rede neural utilize pesos menores, o que a deixa mais estável e menos propensa ao sobreajuste (overfitting) ao realizar o dimensionamento do peso para que fique abaixo de um limite predefinido. Foi utilizada a norma L2 e o fator de regularização foi encontrado via Keras Tuner."
      ]
    },
    {
      "cell_type": "markdown",
      "metadata": {
        "id": "3DvWfQR2A35D"
      },
      "source": [
        "##4.7 Regularização usando ruído (better generalization)\n",
        "Serve para melhorar a robustez da rede, melhorando a generalização e evitando que a rede decore os exemplos de treinamento, isso é feito através da adição de rúido durante o treinamento. Foi utilizado ruído gaussiano com fator de 0,1 testado empiricamente."
      ]
    },
    {
      "cell_type": "markdown",
      "metadata": {
        "id": "Yu_emmVpOxri"
      },
      "source": [
        "##4.8 O modelo e hiperparameter-tuning"
      ]
    },
    {
      "cell_type": "markdown",
      "metadata": {
        "id": "3TIA_MalSACq"
      },
      "source": [
        "Realizamos o ajuste de hiperparâmetros usando random search do keras tuner. Ele configura uma grade de valores de hiperparâmetros e selecionar combinações aleatórias para treinar o modelo e você define qual a métrica utilizada para a seleção final, como por exemplo, melhor acurácia, que foi o que utilizamos.\n",
        "\n",
        "Para cada hiperparâmetro determinados uma faixa ou valores que o algoritmo \"sorteou\".\n",
        "\n",
        "\n",
        "\n",
        "\n",
        "Hiperparâmetros que buscamos com hiperparameter tuning:\n",
        "\n",
        "*  Número de neurônios da primeira camada ('units')\n",
        "*  Taxa de aprendizagem ('learning rate')\n",
        "*  Momento ('momentum')\n",
        "*  Fator de regularização\n",
        "*  Número de épocas \n",
        "\n",
        "Hiperparâmetros que fixamos:\n",
        "\n",
        "*   Número de camadas\n",
        "*   Número de neurônios da camada de saída\n",
        "\n",
        "\n",
        "\n",
        "\n",
        "\n",
        "\n",
        "\n"
      ]
    },
    {
      "cell_type": "code",
      "metadata": {
        "id": "8Kq1sVavyzj2"
      },
      "source": [
        "def build_model(hp):\n",
        "\n",
        "      model = keras.Sequential()\n",
        "      \n",
        "      #hiperparametros do modelo\n",
        "      hp_units = hp.Int('units', min_value=300, max_value=340, step=32)\n",
        "      hp_kernel_l2 = hp.Choice('kernel_regularizer', values=[1e-2, 1e-3, 1e-4,1e-5,1e-6,1e-7,1e-8,1e-9])\n",
        "  \n",
        "      model.add(layers.Dense(units= hp_units, kernel_regularizer=l2(hp_kernel_l2), kernel_initializer=\"he_uniform\"))\n",
        "      model.add(GaussianNoise(0.1))\n",
        "      model.add(layers.BatchNormalization())\n",
        "      model.add(layers.Activation(tf.nn.relu))\n",
        "\n",
        "      model.add(layers.Dense(10, activation = tf.nn.softmax,kernel_initializer=\"he_uniform\"))\n",
        " \n",
        "      \n",
        "      model.compile(\n",
        "                optimizer=keras.optimizers.RMSprop(learning_rate = hp.Choice('learning_rate',\n",
        "                          values=[1e-2, 1e-3, 1e-4]),momentum = hp.Choice('momentum',\n",
        "                          values=[0.7,0.8,0.9])),\n",
        "                loss ='sparse_categorical_crossentropy',\n",
        "                metrics = ['accuracy'])\n",
        "\n",
        "      return model"
      ],
      "execution_count": null,
      "outputs": []
    },
    {
      "cell_type": "code",
      "metadata": {
        "id": "AijzEWk5CcOq"
      },
      "source": [
        "tuner = RandomSearch(\n",
        "    build_model,\n",
        "    objective='val_accuracy',\n",
        "    max_trials=3,\n",
        "    executions_per_trial=1,\n",
        "    directory='my_dir5',\n",
        "    project_name='helloworld5')"
      ],
      "execution_count": null,
      "outputs": []
    },
    {
      "cell_type": "code",
      "metadata": {
        "id": "Ji4wacsPWK2T"
      },
      "source": [
        "stop_early = tf.keras.callbacks.EarlyStopping(monitor='val_loss', patience=2)"
      ],
      "execution_count": null,
      "outputs": []
    },
    {
      "cell_type": "code",
      "metadata": {
        "colab": {
          "base_uri": "https://localhost:8080/"
        },
        "id": "oWbDlcB0C63H",
        "outputId": "aae21535-1d11-452a-9f92-298daa682a2d"
      },
      "source": [
        "tuner.search(train_images, train_labels,\n",
        "             epochs=30,\n",
        "             validation_data = (dev_images, dev_labels)\n",
        "             )"
      ],
      "execution_count": null,
      "outputs": [
        {
          "output_type": "stream",
          "text": [
            "Trial 3 Complete [00h 03m 07s]\n",
            "val_accuracy: 0.9508501291275024\n",
            "\n",
            "Best val_accuracy So Far: 0.9841405749320984\n",
            "Total elapsed time: 00h 09m 43s\n",
            "INFO:tensorflow:Oracle triggered exit\n"
          ],
          "name": "stdout"
        }
      ]
    },
    {
      "cell_type": "code",
      "metadata": {
        "id": "Wkxr1ovzNJ0a",
        "colab": {
          "base_uri": "https://localhost:8080/"
        },
        "outputId": "063f1a96-d760-4164-d1a6-983ea551e96c"
      },
      "source": [
        "#pega os hiperparâmetros ótimos\n",
        "best_hps=tuner.get_best_hyperparameters(num_trials=1)[0]\n",
        "print(f\"\"\"\n",
        "The hyperparameter search is complete. The optimal number of units in the first densely-connected\n",
        "layer is {best_hps.get('units')} and the optimal learning rate for the optimizer\n",
        "is {best_hps.get('learning_rate')}, momentum is {best_hps.get('momentum')} and l2 is {best_hps.get('kernel_regularizer')}\n",
        "\"\"\")"
      ],
      "execution_count": null,
      "outputs": [
        {
          "output_type": "stream",
          "text": [
            "\n",
            "The hyperparameter search is complete. The optimal number of units in the first densely-connected\n",
            "layer is 332 and the optimal learning rate for the optimizer\n",
            "is 0.0001, momentum is 0.9 and l2 is 1e-06\n",
            "\n"
          ],
          "name": "stdout"
        }
      ]
    },
    {
      "cell_type": "markdown",
      "metadata": {
        "id": "sBNRxr7RQQpL"
      },
      "source": [
        " Treinamento em busca do melhor número de épocas\n",
        "\n",
        "\n",
        "\n",
        "O método fit implementa o loop de treinamento. Seus argumentos são:\n",
        " \n",
        "*   Os dados de treinamento;\n",
        "*   O número de épocas: quantas vezes o loop de treinamento deve iterar;\n",
        "* O tamanho do lote a ser usado em cada época: o número de exemplos de treinamento considerados para calcular os gradientes para uma etapa de atualização de peso.\n",
        "\n",
        "O treinamento aqui é feito usando o modelo com os hiperparametros adiquiridos anteriormente.\n",
        "\n",
        "Depois encontramos o número ideal de épocas para treinar o modelo com os hiperparâmetros obtidos, usando um limite de 50 épocas.\n"
      ]
    },
    {
      "cell_type": "code",
      "metadata": {
        "colab": {
          "base_uri": "https://localhost:8080/"
        },
        "id": "dndHnT_PWScm",
        "outputId": "c4196fcb-5914-46ca-ffe5-5c5a71b640b2"
      },
      "source": [
        "#treinando com o modelo\n",
        "model = tuner.hypermodel.build(best_hps)\n",
        "\n",
        "history = model.fit(\n",
        "train_images, train_labels,\n",
        "epochs=50,\n",
        "batch_size=128,\n",
        "validation_data = (dev_images, dev_labels))\n",
        "\n",
        "# Encontre o número ideal de épocas para treinar o modelo com os hiperparâmetros obtidos na pesquisa.\n",
        "val_acc_per_epoch = history.history['val_accuracy']\n",
        "best_epoch = val_acc_per_epoch.index(max(val_acc_per_epoch)) + 1\n",
        "print('Best epoch: %d' % (best_epoch,))"
      ],
      "execution_count": null,
      "outputs": [
        {
          "output_type": "stream",
          "text": [
            "Epoch 1/50\n",
            "438/438 [==============================] - 4s 8ms/step - loss: 0.4686 - accuracy: 0.8571 - val_loss: 0.1305 - val_accuracy: 0.9616\n",
            "Epoch 2/50\n",
            "438/438 [==============================] - 3s 7ms/step - loss: 0.1103 - accuracy: 0.9690 - val_loss: 0.0970 - val_accuracy: 0.9704\n",
            "Epoch 3/50\n",
            "438/438 [==============================] - 3s 7ms/step - loss: 0.0700 - accuracy: 0.9796 - val_loss: 0.0836 - val_accuracy: 0.9744\n",
            "Epoch 4/50\n",
            "438/438 [==============================] - 3s 7ms/step - loss: 0.0492 - accuracy: 0.9864 - val_loss: 0.0710 - val_accuracy: 0.9781\n",
            "Epoch 5/50\n",
            "438/438 [==============================] - 3s 7ms/step - loss: 0.0367 - accuracy: 0.9900 - val_loss: 0.0743 - val_accuracy: 0.9771\n",
            "Epoch 6/50\n",
            "438/438 [==============================] - 3s 7ms/step - loss: 0.0285 - accuracy: 0.9930 - val_loss: 0.0724 - val_accuracy: 0.9780\n",
            "Epoch 7/50\n",
            "438/438 [==============================] - 3s 7ms/step - loss: 0.0233 - accuracy: 0.9942 - val_loss: 0.0721 - val_accuracy: 0.9793\n",
            "Epoch 8/50\n",
            "438/438 [==============================] - 3s 7ms/step - loss: 0.0175 - accuracy: 0.9959 - val_loss: 0.0687 - val_accuracy: 0.9803\n",
            "Epoch 9/50\n",
            "438/438 [==============================] - 3s 7ms/step - loss: 0.0147 - accuracy: 0.9968 - val_loss: 0.0763 - val_accuracy: 0.9789\n",
            "Epoch 10/50\n",
            "438/438 [==============================] - 3s 7ms/step - loss: 0.0117 - accuracy: 0.9975 - val_loss: 0.0731 - val_accuracy: 0.9797\n",
            "Epoch 11/50\n",
            "438/438 [==============================] - 3s 7ms/step - loss: 0.0100 - accuracy: 0.9977 - val_loss: 0.0734 - val_accuracy: 0.9813\n",
            "Epoch 12/50\n",
            "438/438 [==============================] - 3s 7ms/step - loss: 0.0093 - accuracy: 0.9980 - val_loss: 0.0732 - val_accuracy: 0.9809\n",
            "Epoch 13/50\n",
            "438/438 [==============================] - 3s 7ms/step - loss: 0.0078 - accuracy: 0.9985 - val_loss: 0.0806 - val_accuracy: 0.9807\n",
            "Epoch 14/50\n",
            "438/438 [==============================] - 3s 7ms/step - loss: 0.0056 - accuracy: 0.9991 - val_loss: 0.0803 - val_accuracy: 0.9807\n",
            "Epoch 15/50\n",
            "438/438 [==============================] - 3s 7ms/step - loss: 0.0054 - accuracy: 0.9993 - val_loss: 0.0781 - val_accuracy: 0.9789\n",
            "Epoch 16/50\n",
            "438/438 [==============================] - 3s 7ms/step - loss: 0.0055 - accuracy: 0.9992 - val_loss: 0.0794 - val_accuracy: 0.9807\n",
            "Epoch 17/50\n",
            "438/438 [==============================] - 3s 7ms/step - loss: 0.0052 - accuracy: 0.9990 - val_loss: 0.0793 - val_accuracy: 0.9807\n",
            "Epoch 18/50\n",
            "438/438 [==============================] - 3s 7ms/step - loss: 0.0041 - accuracy: 0.9994 - val_loss: 0.0758 - val_accuracy: 0.9801\n",
            "Epoch 19/50\n",
            "438/438 [==============================] - 3s 7ms/step - loss: 0.0035 - accuracy: 0.9996 - val_loss: 0.0807 - val_accuracy: 0.9826\n",
            "Epoch 20/50\n",
            "438/438 [==============================] - 3s 7ms/step - loss: 0.0037 - accuracy: 0.9995 - val_loss: 0.0819 - val_accuracy: 0.9811\n",
            "Epoch 21/50\n",
            "438/438 [==============================] - 3s 7ms/step - loss: 0.0032 - accuracy: 0.9996 - val_loss: 0.0794 - val_accuracy: 0.9826\n",
            "Epoch 22/50\n",
            "438/438 [==============================] - 3s 7ms/step - loss: 0.0025 - accuracy: 0.9999 - val_loss: 0.0851 - val_accuracy: 0.9804\n",
            "Epoch 23/50\n",
            "438/438 [==============================] - 3s 7ms/step - loss: 0.0027 - accuracy: 0.9998 - val_loss: 0.0879 - val_accuracy: 0.9831\n",
            "Epoch 24/50\n",
            "438/438 [==============================] - 3s 7ms/step - loss: 0.0027 - accuracy: 0.9998 - val_loss: 0.0828 - val_accuracy: 0.9821\n",
            "Epoch 25/50\n",
            "438/438 [==============================] - 3s 7ms/step - loss: 0.0024 - accuracy: 0.9999 - val_loss: 0.0808 - val_accuracy: 0.9833\n",
            "Epoch 26/50\n",
            "438/438 [==============================] - 3s 7ms/step - loss: 0.0021 - accuracy: 0.9999 - val_loss: 0.0872 - val_accuracy: 0.9817\n",
            "Epoch 27/50\n",
            "438/438 [==============================] - 3s 7ms/step - loss: 0.0020 - accuracy: 0.9999 - val_loss: 0.1008 - val_accuracy: 0.9793\n",
            "Epoch 28/50\n",
            "438/438 [==============================] - 3s 7ms/step - loss: 0.0023 - accuracy: 0.9996 - val_loss: 0.0900 - val_accuracy: 0.9806\n",
            "Epoch 29/50\n",
            "438/438 [==============================] - 3s 7ms/step - loss: 0.0021 - accuracy: 0.9999 - val_loss: 0.0884 - val_accuracy: 0.9823\n",
            "Epoch 30/50\n",
            "438/438 [==============================] - 3s 7ms/step - loss: 0.0022 - accuracy: 0.9999 - val_loss: 0.0845 - val_accuracy: 0.9820\n",
            "Epoch 31/50\n",
            "438/438 [==============================] - 3s 7ms/step - loss: 0.0019 - accuracy: 1.0000 - val_loss: 0.0830 - val_accuracy: 0.9831\n",
            "Epoch 32/50\n",
            "438/438 [==============================] - 3s 7ms/step - loss: 0.0018 - accuracy: 1.0000 - val_loss: 0.0880 - val_accuracy: 0.9821\n",
            "Epoch 33/50\n",
            "438/438 [==============================] - 3s 7ms/step - loss: 0.0017 - accuracy: 1.0000 - val_loss: 0.0874 - val_accuracy: 0.9816\n",
            "Epoch 34/50\n",
            "438/438 [==============================] - 3s 7ms/step - loss: 0.0017 - accuracy: 0.9999 - val_loss: 0.0881 - val_accuracy: 0.9829\n",
            "Epoch 35/50\n",
            "438/438 [==============================] - 3s 7ms/step - loss: 0.0017 - accuracy: 1.0000 - val_loss: 0.0856 - val_accuracy: 0.9831\n",
            "Epoch 36/50\n",
            "438/438 [==============================] - 3s 7ms/step - loss: 0.0017 - accuracy: 0.9999 - val_loss: 0.0884 - val_accuracy: 0.9834\n",
            "Epoch 37/50\n",
            "438/438 [==============================] - 3s 7ms/step - loss: 0.0016 - accuracy: 0.9999 - val_loss: 0.0890 - val_accuracy: 0.9833\n",
            "Epoch 38/50\n",
            "438/438 [==============================] - 3s 7ms/step - loss: 0.0016 - accuracy: 0.9999 - val_loss: 0.0891 - val_accuracy: 0.9833\n",
            "Epoch 39/50\n",
            "438/438 [==============================] - 3s 7ms/step - loss: 0.0014 - accuracy: 1.0000 - val_loss: 0.0885 - val_accuracy: 0.9827\n",
            "Epoch 40/50\n",
            "438/438 [==============================] - 3s 7ms/step - loss: 0.0014 - accuracy: 1.0000 - val_loss: 0.0892 - val_accuracy: 0.9831\n",
            "Epoch 41/50\n",
            "438/438 [==============================] - 3s 8ms/step - loss: 0.0017 - accuracy: 0.9999 - val_loss: 0.0857 - val_accuracy: 0.9834\n",
            "Epoch 42/50\n",
            "438/438 [==============================] - 3s 7ms/step - loss: 0.0014 - accuracy: 1.0000 - val_loss: 0.0912 - val_accuracy: 0.9834\n",
            "Epoch 43/50\n",
            "438/438 [==============================] - 3s 7ms/step - loss: 0.0015 - accuracy: 1.0000 - val_loss: 0.0908 - val_accuracy: 0.9821\n",
            "Epoch 44/50\n",
            "438/438 [==============================] - 3s 7ms/step - loss: 0.0015 - accuracy: 1.0000 - val_loss: 0.0906 - val_accuracy: 0.9826\n",
            "Epoch 45/50\n",
            "438/438 [==============================] - 3s 7ms/step - loss: 0.0014 - accuracy: 1.0000 - val_loss: 0.0875 - val_accuracy: 0.9841\n",
            "Epoch 46/50\n",
            "438/438 [==============================] - 3s 7ms/step - loss: 0.0014 - accuracy: 1.0000 - val_loss: 0.0862 - val_accuracy: 0.9837\n",
            "Epoch 47/50\n",
            "438/438 [==============================] - 3s 7ms/step - loss: 0.0015 - accuracy: 1.0000 - val_loss: 0.0881 - val_accuracy: 0.9841\n",
            "Epoch 48/50\n",
            "438/438 [==============================] - 3s 7ms/step - loss: 0.0014 - accuracy: 1.0000 - val_loss: 0.0900 - val_accuracy: 0.9833\n",
            "Epoch 49/50\n",
            "438/438 [==============================] - 3s 7ms/step - loss: 0.0013 - accuracy: 1.0000 - val_loss: 0.0908 - val_accuracy: 0.9839\n",
            "Epoch 50/50\n",
            "438/438 [==============================] - 3s 8ms/step - loss: 0.0014 - accuracy: 1.0000 - val_loss: 0.0901 - val_accuracy: 0.9837\n",
            "Best epoch: 45\n"
          ],
          "name": "stdout"
        }
      ]
    },
    {
      "cell_type": "markdown",
      "metadata": {
        "id": "tzpI5-2NQM1K"
      },
      "source": [
        "#5.Treinamento"
      ]
    },
    {
      "cell_type": "code",
      "metadata": {
        "colab": {
          "base_uri": "https://localhost:8080/"
        },
        "id": "vF7m6d3rXjCd",
        "outputId": "85c38d2d-eb8e-4661-9f16-6080a4d11dbb"
      },
      "source": [
        "hypermodel = tuner.hypermodel.build(best_hps)\n",
        "\n",
        "# Retreinando o modelo com o melhor número de épocas\n",
        "hypermodel.fit(\n",
        "train_images, train_labels,\n",
        "epochs=best_epoch,\n",
        "batch_size=128,\n",
        "validation_data = (dev_images, dev_labels))"
      ],
      "execution_count": null,
      "outputs": [
        {
          "output_type": "stream",
          "text": [
            "Epoch 1/45\n",
            "438/438 [==============================] - 4s 8ms/step - loss: 0.4658 - accuracy: 0.8551 - val_loss: 0.1333 - val_accuracy: 0.9616\n",
            "Epoch 2/45\n",
            "438/438 [==============================] - 3s 7ms/step - loss: 0.1071 - accuracy: 0.9707 - val_loss: 0.0985 - val_accuracy: 0.9694\n",
            "Epoch 3/45\n",
            "438/438 [==============================] - 3s 7ms/step - loss: 0.0703 - accuracy: 0.9807 - val_loss: 0.0903 - val_accuracy: 0.9736\n",
            "Epoch 4/45\n",
            "438/438 [==============================] - 3s 7ms/step - loss: 0.0486 - accuracy: 0.9869 - val_loss: 0.0925 - val_accuracy: 0.9724\n",
            "Epoch 5/45\n",
            "438/438 [==============================] - 3s 7ms/step - loss: 0.0351 - accuracy: 0.9910 - val_loss: 0.0732 - val_accuracy: 0.9804\n",
            "Epoch 6/45\n",
            "438/438 [==============================] - 3s 7ms/step - loss: 0.0298 - accuracy: 0.9919 - val_loss: 0.0793 - val_accuracy: 0.9754\n",
            "Epoch 7/45\n",
            "438/438 [==============================] - 3s 7ms/step - loss: 0.0213 - accuracy: 0.9950 - val_loss: 0.0738 - val_accuracy: 0.9781\n",
            "Epoch 8/45\n",
            "438/438 [==============================] - 3s 7ms/step - loss: 0.0171 - accuracy: 0.9964 - val_loss: 0.0752 - val_accuracy: 0.9787\n",
            "Epoch 9/45\n",
            "438/438 [==============================] - 3s 7ms/step - loss: 0.0145 - accuracy: 0.9966 - val_loss: 0.0757 - val_accuracy: 0.9801\n",
            "Epoch 10/45\n",
            "438/438 [==============================] - 3s 7ms/step - loss: 0.0120 - accuracy: 0.9976 - val_loss: 0.0786 - val_accuracy: 0.9799\n",
            "Epoch 11/45\n",
            "438/438 [==============================] - 3s 7ms/step - loss: 0.0098 - accuracy: 0.9981 - val_loss: 0.0747 - val_accuracy: 0.9823\n",
            "Epoch 12/45\n",
            "438/438 [==============================] - 3s 7ms/step - loss: 0.0083 - accuracy: 0.9982 - val_loss: 0.0821 - val_accuracy: 0.9783\n",
            "Epoch 13/45\n",
            "438/438 [==============================] - 3s 7ms/step - loss: 0.0075 - accuracy: 0.9985 - val_loss: 0.0784 - val_accuracy: 0.9801\n",
            "Epoch 14/45\n",
            "438/438 [==============================] - 3s 7ms/step - loss: 0.0060 - accuracy: 0.9993 - val_loss: 0.0775 - val_accuracy: 0.9793\n",
            "Epoch 15/45\n",
            "438/438 [==============================] - 3s 7ms/step - loss: 0.0058 - accuracy: 0.9992 - val_loss: 0.0819 - val_accuracy: 0.9806\n",
            "Epoch 16/45\n",
            "438/438 [==============================] - 3s 7ms/step - loss: 0.0044 - accuracy: 0.9994 - val_loss: 0.0813 - val_accuracy: 0.9800\n",
            "Epoch 17/45\n",
            "438/438 [==============================] - 3s 7ms/step - loss: 0.0038 - accuracy: 0.9997 - val_loss: 0.0875 - val_accuracy: 0.9783\n",
            "Epoch 18/45\n",
            "438/438 [==============================] - 3s 7ms/step - loss: 0.0039 - accuracy: 0.9995 - val_loss: 0.0888 - val_accuracy: 0.9789\n",
            "Epoch 19/45\n",
            "438/438 [==============================] - 3s 7ms/step - loss: 0.0040 - accuracy: 0.9993 - val_loss: 0.0843 - val_accuracy: 0.9803\n",
            "Epoch 20/45\n",
            "438/438 [==============================] - 3s 7ms/step - loss: 0.0037 - accuracy: 0.9996 - val_loss: 0.0812 - val_accuracy: 0.9806\n",
            "Epoch 21/45\n",
            "438/438 [==============================] - 3s 7ms/step - loss: 0.0030 - accuracy: 0.9998 - val_loss: 0.0889 - val_accuracy: 0.9800\n",
            "Epoch 22/45\n",
            "438/438 [==============================] - 3s 7ms/step - loss: 0.0032 - accuracy: 0.9996 - val_loss: 0.0955 - val_accuracy: 0.9791\n",
            "Epoch 23/45\n",
            "438/438 [==============================] - 3s 7ms/step - loss: 0.0034 - accuracy: 0.9995 - val_loss: 0.0898 - val_accuracy: 0.9807\n",
            "Epoch 24/45\n",
            "438/438 [==============================] - 3s 7ms/step - loss: 0.0025 - accuracy: 0.9999 - val_loss: 0.0913 - val_accuracy: 0.9793\n",
            "Epoch 25/45\n",
            "438/438 [==============================] - 3s 7ms/step - loss: 0.0027 - accuracy: 0.9997 - val_loss: 0.0865 - val_accuracy: 0.9811\n",
            "Epoch 26/45\n",
            "438/438 [==============================] - 3s 7ms/step - loss: 0.0024 - accuracy: 0.9998 - val_loss: 0.0942 - val_accuracy: 0.9807\n",
            "Epoch 27/45\n",
            "438/438 [==============================] - 3s 7ms/step - loss: 0.0025 - accuracy: 0.9998 - val_loss: 0.0970 - val_accuracy: 0.9807\n",
            "Epoch 28/45\n",
            "438/438 [==============================] - 3s 7ms/step - loss: 0.0023 - accuracy: 0.9999 - val_loss: 0.0907 - val_accuracy: 0.9806\n",
            "Epoch 29/45\n",
            "438/438 [==============================] - 3s 7ms/step - loss: 0.0018 - accuracy: 1.0000 - val_loss: 0.0919 - val_accuracy: 0.9803\n",
            "Epoch 30/45\n",
            "438/438 [==============================] - 3s 7ms/step - loss: 0.0020 - accuracy: 1.0000 - val_loss: 0.0902 - val_accuracy: 0.9811\n",
            "Epoch 31/45\n",
            "438/438 [==============================] - 3s 7ms/step - loss: 0.0019 - accuracy: 0.9999 - val_loss: 0.0944 - val_accuracy: 0.9801\n",
            "Epoch 32/45\n",
            "438/438 [==============================] - 3s 7ms/step - loss: 0.0018 - accuracy: 1.0000 - val_loss: 0.0928 - val_accuracy: 0.9810\n",
            "Epoch 33/45\n",
            "438/438 [==============================] - 3s 8ms/step - loss: 0.0018 - accuracy: 0.9999 - val_loss: 0.0898 - val_accuracy: 0.9803\n",
            "Epoch 34/45\n",
            "438/438 [==============================] - 3s 7ms/step - loss: 0.0020 - accuracy: 0.9998 - val_loss: 0.0948 - val_accuracy: 0.9819\n",
            "Epoch 35/45\n",
            "438/438 [==============================] - 3s 8ms/step - loss: 0.0018 - accuracy: 0.9999 - val_loss: 0.0923 - val_accuracy: 0.9819\n",
            "Epoch 36/45\n",
            "438/438 [==============================] - 3s 7ms/step - loss: 0.0016 - accuracy: 1.0000 - val_loss: 0.0885 - val_accuracy: 0.9821\n",
            "Epoch 37/45\n",
            "438/438 [==============================] - 3s 7ms/step - loss: 0.0015 - accuracy: 1.0000 - val_loss: 0.0892 - val_accuracy: 0.9824\n",
            "Epoch 38/45\n",
            "438/438 [==============================] - 3s 7ms/step - loss: 0.0015 - accuracy: 1.0000 - val_loss: 0.0932 - val_accuracy: 0.9813\n",
            "Epoch 39/45\n",
            "438/438 [==============================] - 3s 8ms/step - loss: 0.0015 - accuracy: 0.9999 - val_loss: 0.0900 - val_accuracy: 0.9821\n",
            "Epoch 40/45\n",
            "438/438 [==============================] - 3s 7ms/step - loss: 0.0014 - accuracy: 1.0000 - val_loss: 0.0946 - val_accuracy: 0.9819\n",
            "Epoch 41/45\n",
            "438/438 [==============================] - 3s 7ms/step - loss: 0.0014 - accuracy: 1.0000 - val_loss: 0.0923 - val_accuracy: 0.9817\n",
            "Epoch 42/45\n",
            "438/438 [==============================] - 3s 7ms/step - loss: 0.0014 - accuracy: 1.0000 - val_loss: 0.0963 - val_accuracy: 0.9811\n",
            "Epoch 43/45\n",
            "438/438 [==============================] - 3s 7ms/step - loss: 0.0016 - accuracy: 0.9999 - val_loss: 0.0942 - val_accuracy: 0.9823\n",
            "Epoch 44/45\n",
            "438/438 [==============================] - 3s 8ms/step - loss: 0.0014 - accuracy: 1.0000 - val_loss: 0.0937 - val_accuracy: 0.9813\n",
            "Epoch 45/45\n",
            "438/438 [==============================] - 3s 7ms/step - loss: 0.0014 - accuracy: 1.0000 - val_loss: 0.0946 - val_accuracy: 0.9814\n"
          ],
          "name": "stdout"
        },
        {
          "output_type": "execute_result",
          "data": {
            "text/plain": [
              "<tensorflow.python.keras.callbacks.History at 0x7feedc89da90>"
            ]
          },
          "metadata": {
            "tags": []
          },
          "execution_count": 16
        }
      ]
    },
    {
      "cell_type": "code",
      "metadata": {
        "colab": {
          "base_uri": "https://localhost:8080/",
          "height": 295
        },
        "id": "TpABpWhHX1m6",
        "outputId": "48757479-7684-4829-d959-61a7b1a28d2b"
      },
      "source": [
        "# summarize history for accuracy\n",
        "plt.plot(history.history['accuracy'])\n",
        "plt.plot(history.history['val_accuracy'])\n",
        "plt.title('model accuracy')\n",
        "plt.ylabel('accuracy')\n",
        "plt.xlabel('epoch')\n",
        "plt.legend(['train', 'dev'], loc='best')\n",
        "plt.show()"
      ],
      "execution_count": null,
      "outputs": [
        {
          "output_type": "display_data",
          "data": {
            "image/png": "[encoded data removed]",
            "text/plain": [
              "<Figure size 432x288 with 1 Axes>"
            ]
          },
          "metadata": {
            "tags": [],
            "needs_background": "light"
          }
        }
      ]
    },
    {
      "cell_type": "code",
      "metadata": {
        "colab": {
          "base_uri": "https://localhost:8080/",
          "height": 295
        },
        "id": "7-jMCmwrzugd",
        "outputId": "8647e422-2e63-4384-ddf2-1e4dc244a9e8"
      },
      "source": [
        "plt.title('sparse_categorical_crossentropy Loss', pad=-40)\n",
        "plt.plot(history.history['loss'], label='train')\n",
        "plt.plot(history.history['val_loss'], label='dev')\n",
        "plt.legend()"
      ],
      "execution_count": null,
      "outputs": [
        {
          "output_type": "execute_result",
          "data": {
            "text/plain": [
              "<matplotlib.legend.Legend at 0x7feed8e2e0d0>"
            ]
          },
          "metadata": {
            "tags": []
          },
          "execution_count": 18
        },
        {
          "output_type": "display_data",
          "data": {
            "image/png": "[encoded data removed]",
            "text/plain": [
              "<Figure size 432x288 with 1 Axes>"
            ]
          },
          "metadata": {
            "tags": [],
            "needs_background": "light"
          }
        }
      ]
    },
    {
      "cell_type": "markdown",
      "metadata": {
        "id": "J13MFVhTvq0E"
      },
      "source": [
        "#6.Aplicando o modelo aos dados de teste\n",
        "\n",
        "Aqui recuperamos o modelo e aplicamos aos dados de teste.\n"
      ]
    },
    {
      "cell_type": "code",
      "metadata": {
        "id": "gmMgsRJCzCQm",
        "colab": {
          "base_uri": "https://localhost:8080/"
        },
        "outputId": "89710a77-2bba-45d9-a6fc-34079cc26a0c"
      },
      "source": [
        "eval_result = hypermodel.evaluate(test_images, test_labels)\n",
        "print(\"[test loss, test accuracy]:\", eval_result)"
      ],
      "execution_count": null,
      "outputs": [
        {
          "output_type": "stream",
          "text": [
            "219/219 [==============================] - 0s 2ms/step - loss: 0.0940 - accuracy: 0.9830\n",
            "[test loss, test accuracy]: [0.09396722912788391, 0.9830024242401123]\n"
          ],
          "name": "stdout"
        }
      ]
    },
    {
      "cell_type": "code",
      "metadata": {
        "id": "eCjx33-Khu9D",
        "colab": {
          "base_uri": "https://localhost:8080/",
          "height": 295
        },
        "outputId": "834be897-7eda-44a2-e7f4-e9796babd988"
      },
      "source": [
        "# summarize history for accuracy\n",
        "plt.plot(history.history['accuracy'])\n",
        "plt.plot(history.history['val_accuracy'])\n",
        "plt.title('model accuracy')\n",
        "plt.ylabel('accuracy')\n",
        "plt.xlabel('epoch')\n",
        "plt.legend(['train', 'test'], loc='best')\n",
        "plt.show()"
      ],
      "execution_count": null,
      "outputs": [
        {
          "output_type": "display_data",
          "data": {
            "image/png": "[encoded data removed]",
            "text/plain": [
              "<Figure size 432x288 with 1 Axes>"
            ]
          },
          "metadata": {
            "tags": [],
            "needs_background": "light"
          }
        }
      ]
    },
    {
      "cell_type": "markdown",
      "metadata": {
        "id": "HAVvcspTWvrZ"
      },
      "source": [
        "#6.Comparação entre função de custo e métrica de train, dev e test\n",
        "\n"
      ]
    },
    {
      "cell_type": "code",
      "metadata": {
        "id": "GFrAW7RkXIyE",
        "colab": {
          "base_uri": "https://localhost:8080/"
        },
        "outputId": "933900fb-cc09-4686-cc56-3077e0c3f5ca"
      },
      "source": [
        "loss_and_metrics = model.evaluate(train_images, train_labels, batch_size=128)"
      ],
      "execution_count": null,
      "outputs": [
        {
          "output_type": "stream",
          "text": [
            "438/438 [==============================] - 1s 3ms/step - loss: 0.0012 - accuracy: 1.0000\n"
          ],
          "name": "stdout"
        }
      ]
    },
    {
      "cell_type": "code",
      "metadata": {
        "id": "7qxwsO2tXWWL",
        "colab": {
          "base_uri": "https://localhost:8080/"
        },
        "outputId": "fa5d4ba1-95c4-405e-893e-266e7271bc49"
      },
      "source": [
        "loss_and_metrics = model.evaluate(dev_images, dev_labels, batch_size=128)"
      ],
      "execution_count": null,
      "outputs": [
        {
          "output_type": "stream",
          "text": [
            "55/55 [==============================] - 0s 3ms/step - loss: 0.0901 - accuracy: 0.9837\n"
          ],
          "name": "stdout"
        }
      ]
    },
    {
      "cell_type": "code",
      "metadata": {
        "id": "bORspFFzXXtZ",
        "colab": {
          "base_uri": "https://localhost:8080/"
        },
        "outputId": "3bd6c2a4-7ed0-49b5-ef9b-4bbb15630fc6"
      },
      "source": [
        "loss_and_metrics = model.evaluate(test_images, test_labels, batch_size=128)"
      ],
      "execution_count": null,
      "outputs": [
        {
          "output_type": "stream",
          "text": [
            "55/55 [==============================] - 0s 3ms/step - loss: 0.0992 - accuracy: 0.9824\n"
          ],
          "name": "stdout"
        }
      ]
    },
    {
      "cell_type": "markdown",
      "metadata": {
        "id": "bkrnlp2KTTE9"
      },
      "source": [
        "#Referências\n",
        "\n",
        "- [François Chollet. Deep Learning with Python, Second Edition, 2021.](https://www.manning.com/books/deep-learning-with-python-second-edition)"
      ]
    },
    {
      "cell_type": "markdown",
      "metadata": {
        "id": "CCquMqFmD3zh"
      },
      "source": [
        "- https://keras.io/"
      ]
    }
  ]
}